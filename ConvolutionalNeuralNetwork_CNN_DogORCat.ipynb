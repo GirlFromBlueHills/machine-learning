{
 "cells": [
  {
   "cell_type": "markdown",
   "metadata": {},
   "source": [
    "#### Use a convolutional neural network to classify images "
   ]
  },
  {
   "cell_type": "markdown",
   "metadata": {},
   "source": [
    "# Part 1 - Building the CNN"
   ]
  },
  {
   "cell_type": "code",
   "execution_count": 1,
   "metadata": {},
   "outputs": [
    {
     "name": "stderr",
     "output_type": "stream",
     "text": [
      "Using TensorFlow backend.\n"
     ]
    }
   ],
   "source": [
    "# Importing the Keras libraries and packages\n",
    "from keras.models import Sequential\n",
    "from keras.layers import Conv2D\n",
    "from keras.layers import MaxPooling2D\n",
    "from keras.layers import Flatten\n",
    "from keras.layers import Dense"
   ]
  },
  {
   "cell_type": "code",
   "execution_count": 2,
   "metadata": {
    "collapsed": true
   },
   "outputs": [],
   "source": [
    "# Initialising the CNN\n",
    "classifier = Sequential()"
   ]
  },
  {
   "cell_type": "code",
   "execution_count": 3,
   "metadata": {
    "collapsed": true
   },
   "outputs": [],
   "source": [
    "# Step 1 - Convolution\n",
    "classifier.add(Conv2D(32, (3, 3), input_shape = (64, 64, 3), activation = 'relu'))"
   ]
  },
  {
   "cell_type": "code",
   "execution_count": 4,
   "metadata": {
    "collapsed": true
   },
   "outputs": [],
   "source": [
    "# Step 2 - Pooling\n",
    "classifier.add(MaxPooling2D(pool_size = (2, 2)))"
   ]
  },
  {
   "cell_type": "code",
   "execution_count": 5,
   "metadata": {
    "collapsed": true
   },
   "outputs": [],
   "source": [
    "# Adding a second convolutional layer\n",
    "classifier.add(Conv2D(32, (3, 3), activation = 'relu'))\n",
    "classifier.add(MaxPooling2D(pool_size = (2, 2)))"
   ]
  },
  {
   "cell_type": "code",
   "execution_count": 6,
   "metadata": {
    "collapsed": true
   },
   "outputs": [],
   "source": [
    "# Step 3 - Flattening\n",
    "classifier.add(Flatten())"
   ]
  },
  {
   "cell_type": "code",
   "execution_count": 7,
   "metadata": {
    "collapsed": true
   },
   "outputs": [],
   "source": [
    "# Step 4 - Full connection\n",
    "classifier.add(Dense(units = 128, activation = 'relu'))\n",
    "classifier.add(Dense(units = 1, activation = 'sigmoid'))"
   ]
  },
  {
   "cell_type": "code",
   "execution_count": 8,
   "metadata": {
    "collapsed": true
   },
   "outputs": [],
   "source": [
    "# Compiling the CNN\n",
    "classifier.compile(optimizer = 'adam', loss = 'binary_crossentropy', metrics = ['accuracy'])"
   ]
  },
  {
   "cell_type": "markdown",
   "metadata": {},
   "source": [
    "# Part 2 - Fitting the CNN to the images"
   ]
  },
  {
   "cell_type": "code",
   "execution_count": 9,
   "metadata": {
    "collapsed": true
   },
   "outputs": [],
   "source": [
    "from keras.preprocessing.image import ImageDataGenerator"
   ]
  },
  {
   "cell_type": "code",
   "execution_count": 10,
   "metadata": {
    "collapsed": true
   },
   "outputs": [],
   "source": [
    "train_datagen = ImageDataGenerator(rescale = 1./255,\n",
    "                                   shear_range = 0.2,\n",
    "                                   zoom_range = 0.2,\n",
    "                                   horizontal_flip = True)"
   ]
  },
  {
   "cell_type": "code",
   "execution_count": 11,
   "metadata": {
    "collapsed": true
   },
   "outputs": [],
   "source": [
    "test_datagen = ImageDataGenerator(rescale = 1./255)"
   ]
  },
  {
   "cell_type": "code",
   "execution_count": 12,
   "metadata": {},
   "outputs": [
    {
     "name": "stdout",
     "output_type": "stream",
     "text": [
      "Found 8064 images belonging to 2 classes.\n"
     ]
    }
   ],
   "source": [
    "training_set = train_datagen.flow_from_directory('dataset/training_set',\n",
    "                                                 target_size = (64, 64),\n",
    "                                                 batch_size = 32,\n",
    "                                                 class_mode = 'binary')"
   ]
  },
  {
   "cell_type": "code",
   "execution_count": null,
   "metadata": {},
   "outputs": [
    {
     "name": "stdout",
     "output_type": "stream",
     "text": [
      "Found 2006 images belonging to 2 classes.\n"
     ]
    }
   ],
   "source": [
    "test_set = test_datagen.flow_from_directory('dataset/test_set',\n",
    "                                            target_size = (64, 64),\n",
    "                                            batch_size = 32,\n",
    "                                            class_mode = 'binary')"
   ]
  },
  {
   "cell_type": "code",
   "execution_count": null,
   "metadata": {},
   "outputs": [
    {
     "name": "stdout",
     "output_type": "stream",
     "text": [
      "Epoch 1/25\n",
      "8000/8000 [==============================] - 2067s 258ms/step - loss: 0.3851 - acc: 0.8175 - val_loss: 0.6165 - val_acc: 0.7775\n",
      "Epoch 2/25\n",
      "8000/8000 [==============================] - 2028s 254ms/step - loss: 0.1324 - acc: 0.9486 - val_loss: 0.8271 - val_acc: 0.8017\n",
      "Epoch 3/25\n",
      "8000/8000 [==============================] - 2118s 265ms/step - loss: 0.0707 - acc: 0.9741 - val_loss: 0.9670 - val_acc: 0.8033\n",
      "Epoch 4/25\n",
      "8000/8000 [==============================] - 2022s 253ms/step - loss: 0.0503 - acc: 0.9823 - val_loss: 1.1329 - val_acc: 0.7875\n",
      "Epoch 5/25\n",
      "8000/8000 [==============================] - 2272s 284ms/step - loss: 0.0403 - acc: 0.9864 - val_loss: 1.3078 - val_acc: 0.7862\n",
      "Epoch 6/25\n",
      "8000/8000 [==============================] - 2024s 253ms/step - loss: 0.0336 - acc: 0.9883 - val_loss: 1.3481 - val_acc: 0.8024\n",
      "Epoch 7/25\n",
      "8000/8000 [==============================] - 2017s 252ms/step - loss: 0.0305 - acc: 0.9900 - val_loss: 1.3393 - val_acc: 0.7938\n",
      "Epoch 8/25\n",
      "8000/8000 [==============================] - 2023s 253ms/step - loss: 0.0259 - acc: 0.9912 - val_loss: 1.3341 - val_acc: 0.8028\n",
      "Epoch 9/25\n",
      "8000/8000 [==============================] - 2017s 252ms/step - loss: 0.0231 - acc: 0.9924 - val_loss: 1.4140 - val_acc: 0.7968\n",
      "Epoch 10/25\n",
      "8000/8000 [==============================] - 2030s 254ms/step - loss: 0.0223 - acc: 0.9926 - val_loss: 1.3165 - val_acc: 0.8006\n",
      "Epoch 11/25\n",
      "8000/8000 [==============================] - 2098s 262ms/step - loss: 0.0189 - acc: 0.9937 - val_loss: 1.4506 - val_acc: 0.7937\n",
      "Epoch 12/25\n",
      "8000/8000 [==============================] - 2190s 274ms/step - loss: 0.0173 - acc: 0.9945 - val_loss: 1.4179 - val_acc: 0.7967\n",
      "Epoch 13/25\n",
      "8000/8000 [==============================] - 2094s 262ms/step - loss: 0.0163 - acc: 0.9946 - val_loss: 1.4574 - val_acc: 0.7992\n",
      "Epoch 14/25\n",
      "8000/8000 [==============================] - 2205s 276ms/step - loss: 0.0157 - acc: 0.9948 - val_loss: 1.4633 - val_acc: 0.8026\n",
      "Epoch 15/25\n",
      "8000/8000 [==============================] - 2112s 264ms/step - loss: 0.0146 - acc: 0.9954 - val_loss: 1.4438 - val_acc: 0.7956\n",
      "Epoch 16/25\n",
      "8000/8000 [==============================] - 2151s 269ms/step - loss: 0.0138 - acc: 0.9956 - val_loss: 1.5493 - val_acc: 0.8017\n",
      "Epoch 17/25\n",
      "8000/8000 [==============================] - 2131s 266ms/step - loss: 0.0124 - acc: 0.9960 - val_loss: 1.5861 - val_acc: 0.7957\n",
      "Epoch 18/25\n",
      "8000/8000 [==============================] - 2114s 264ms/step - loss: 0.0122 - acc: 0.9961 - val_loss: 1.5635 - val_acc: 0.8002\n",
      "Epoch 19/25\n",
      "8000/8000 [==============================] - 2033s 254ms/step - loss: 0.0123 - acc: 0.9962 - val_loss: 1.7327 - val_acc: 0.7916\n",
      "Epoch 20/25\n",
      "8000/8000 [==============================] - 2039s 255ms/step - loss: 0.0112 - acc: 0.9964 - val_loss: 1.7375 - val_acc: 0.7906\n",
      "Epoch 21/25\n",
      "8000/8000 [==============================] - 2035s 254ms/step - loss: 0.0107 - acc: 0.9966 - val_loss: 1.6134 - val_acc: 0.7926\n",
      "Epoch 22/25\n",
      "8000/8000 [==============================] - 2028s 254ms/step - loss: 0.0104 - acc: 0.9968 - val_loss: 1.6183 - val_acc: 0.7938\n",
      "Epoch 23/25\n",
      "8000/8000 [==============================] - 2093s 262ms/step - loss: 0.0099 - acc: 0.9969 - val_loss: 1.6769 - val_acc: 0.7991\n",
      "Epoch 24/25\n",
      "8000/8000 [==============================] - 2031s 254ms/step - loss: 0.0102 - acc: 0.9970 - val_loss: 1.6796 - val_acc: 0.7960\n",
      "Epoch 25/25\n",
      "7999/8000 [============================>.] - ETA: 0s - loss: 0.0090 - acc: 0.9972"
     ]
    }
   ],
   "source": [
    "classifier.fit_generator(training_set,\n",
    "                         steps_per_epoch = 8000,\n",
    "                         epochs = 25,\n",
    "                         validation_data = test_set,\n",
    "                         validation_steps = 2000)"
   ]
  },
  {
   "cell_type": "markdown",
   "metadata": {},
   "source": [
    "# Part 3 - Making new predictions"
   ]
  },
  {
   "cell_type": "code",
   "execution_count": null,
   "metadata": {
    "collapsed": true
   },
   "outputs": [],
   "source": [
    "import numpy as np\n",
    "from keras.preprocessing import image"
   ]
  },
  {
   "cell_type": "code",
   "execution_count": null,
   "metadata": {
    "collapsed": true
   },
   "outputs": [],
   "source": [
    "test_image = image.load_img('dataset/single_prediction/cat_or_dog_1.jpg', target_size = (64, 64))\n",
    "test_image = image.img_to_array(test_image)\n",
    "test_image = np.expand_dims(test_image, axis = 0)"
   ]
  },
  {
   "cell_type": "code",
   "execution_count": null,
   "metadata": {
    "collapsed": true
   },
   "outputs": [],
   "source": [
    "result = classifier.predict(test_image)"
   ]
  },
  {
   "cell_type": "code",
   "execution_count": null,
   "metadata": {
    "collapsed": true
   },
   "outputs": [],
   "source": [
    "training_set.class_indices"
   ]
  },
  {
   "cell_type": "code",
   "execution_count": null,
   "metadata": {
    "collapsed": true
   },
   "outputs": [],
   "source": [
    "if result[0][0] == 1:\n",
    "    prediction = 'dog'\n",
    "else:\n",
    "    prediction = 'cat'"
   ]
  },
  {
   "cell_type": "code",
   "execution_count": 20,
   "metadata": {},
   "outputs": [
    {
     "data": {
      "text/plain": [
       "'dog'"
      ]
     },
     "execution_count": 20,
     "metadata": {},
     "output_type": "execute_result"
    }
   ],
   "source": [
    "prediction"
   ]
  },
  {
   "cell_type": "code",
   "execution_count": 22,
   "metadata": {
    "collapsed": true
   },
   "outputs": [],
   "source": [
    "test_image = image.load_img('dataset/single_prediction/cat_or_dog_2.jpg', target_size = (64, 64))\n",
    "test_image = image.img_to_array(test_image)\n",
    "test_image = np.expand_dims(test_image, axis = 0)"
   ]
  },
  {
   "cell_type": "code",
   "execution_count": 23,
   "metadata": {
    "collapsed": true
   },
   "outputs": [],
   "source": [
    "result = classifier.predict(test_image)\n",
    "training_set.class_indices\n",
    "if result[0][0] == 1:\n",
    "    prediction = 'dog'\n",
    "else:\n",
    "    prediction = 'cat'"
   ]
  },
  {
   "cell_type": "code",
   "execution_count": 24,
   "metadata": {},
   "outputs": [
    {
     "data": {
      "text/plain": [
       "'cat'"
      ]
     },
     "execution_count": 24,
     "metadata": {},
     "output_type": "execute_result"
    }
   ],
   "source": [
    "prediction"
   ]
  },
  {
   "cell_type": "code",
   "execution_count": null,
   "metadata": {
    "collapsed": true
   },
   "outputs": [],
   "source": []
  }
 ],
 "metadata": {
  "kernelspec": {
   "display_name": "Python 3",
   "language": "python",
   "name": "python3"
  },
  "language_info": {
   "codemirror_mode": {
    "name": "ipython",
    "version": 3
   },
   "file_extension": ".py",
   "mimetype": "text/x-python",
   "name": "python",
   "nbconvert_exporter": "python",
   "pygments_lexer": "ipython3",
   "version": "3.6.2"
  }
 },
 "nbformat": 4,
 "nbformat_minor": 2
}
